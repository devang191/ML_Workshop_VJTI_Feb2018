{
 "cells": [
  {
   "cell_type": "markdown",
   "metadata": {},
   "source": [
    "# Data Analysis with Python"
   ]
  },
  {
   "cell_type": "markdown",
   "metadata": {
    "slideshow": {
     "slide_type": "slide"
    }
   },
   "source": [
    "<a id='TOC'></a>\n",
    "# Contents\n",
    "## [I. Hello Jupyter](#HelloJupyter)\n",
    "## [II. Python Basics](#PythonBasics)\n",
    "## [III. Numpy](#NumPy)\n",
    "## [IV. Scipy](#Scipy)\n",
    "## [V. Pandas](#Pandas)\n",
    "## [VI. Pickle](#Pickle)\n",
    "## [VII. Matplotlib](#Matplotlib)\n",
    "## [VIII. Exploring Datasets](#ExploringDatasets)\n",
    "## [IX. WordClouds](#WordClouds)"
   ]
  },
  {
   "cell_type": "markdown",
   "metadata": {
    "slideshow": {
     "slide_type": "slide"
    }
   },
   "source": [
    "<a id='HelloJupyter'></a>\n",
    "# I. Hello Jupyter"
   ]
  },
  {
   "cell_type": "markdown",
   "metadata": {},
   "source": [
    "## Markdown in Jupyter"
   ]
  },
  {
   "cell_type": "raw",
   "metadata": {},
   "source": [
    "### New paragraph\n",
    "\n",
    "This is *rich* **text** with [links](http://ipython.org), equations:\n",
    "\n",
    "$$\\hat{f}(\\theta) = \\int_{-\\infty}^{+\\infty} f(x)\\, \\mathrm{e}^{-i \\theta x}$$\n",
    "\n",
    "code with syntax highlighting:\n",
    "\n",
    "```python\n",
    "print(\"Hello world!\")\n",
    "```\n",
    "\n",
    "and images:\n",
    "\n",
    "![This is an image](http://ipython.org/_static/IPy_header.png)"
   ]
  },
  {
   "cell_type": "markdown",
   "metadata": {},
   "source": [
    "### New paragraph\n",
    "\n",
    "This is *rich* **text** with [links](http://ipython.org), equations:\n",
    "\n",
    "$$\\hat{f}(\\theta) = \\int_{-\\infty}^{+\\infty} f(x)\\, \\mathrm{e}^{-i \\theta x}$$\n",
    "\n",
    "code with syntax highlighting:\n",
    "\n",
    "```python\n",
    "print(\"Hello world!\")\n",
    "```\n",
    "\n",
    "and images:\n",
    "\n",
    "![This is an image](http://ipython.org/_static/IPy_header.png)"
   ]
  },
  {
   "cell_type": "markdown",
   "metadata": {},
   "source": [
    "## Image in Jupyter"
   ]
  },
  {
   "cell_type": "code",
   "execution_count": null,
   "metadata": {},
   "outputs": [],
   "source": [
    "from IPython.display import Image\n",
    "Image('Images/LanguageChoice.png', width = 600)"
   ]
  },
  {
   "cell_type": "markdown",
   "metadata": {},
   "source": [
    "## Video in Jupyter"
   ]
  },
  {
   "cell_type": "code",
   "execution_count": null,
   "metadata": {},
   "outputs": [],
   "source": [
    "from IPython.display import YouTubeVideo\n",
    "YouTubeVideo('8CX-Q0gtSp8')"
   ]
  },
  {
   "cell_type": "markdown",
   "metadata": {
    "collapsed": true
   },
   "source": [
    "## Math in Jupyter"
   ]
  },
  {
   "cell_type": "code",
   "execution_count": null,
   "metadata": {},
   "outputs": [],
   "source": [
    "from IPython.display import Latex\n",
    "Latex(r\"\"\"\\begin{eqnarray}\n",
    "\\nabla \\times \\vec{\\mathbf{B}} -\\, \\frac1c\\, \\frac{\\partial\\vec{\\mathbf{E}}}{\\partial t} & = \\frac{4\\pi}{c}\\vec{\\mathbf{j}} \\\\\n",
    "\\nabla \\cdot \\vec{\\mathbf{E}} & = 4 \\pi \\rho \\\\\n",
    "\\nabla \\times \\vec{\\mathbf{E}}\\, +\\, \\frac1c\\, \\frac{\\partial\\vec{\\mathbf{B}}}{\\partial t} & = \\vec{\\mathbf{0}} \\\\\n",
    "\\nabla \\cdot \\vec{\\mathbf{B}} & = 0 \n",
    "\\end{eqnarray}\"\"\")"
   ]
  },
  {
   "cell_type": "markdown",
   "metadata": {},
   "source": [
    "## Audio in Jupyter"
   ]
  },
  {
   "cell_type": "code",
   "execution_count": null,
   "metadata": {},
   "outputs": [],
   "source": [
    "import numpy as np\n",
    "from IPython.display import Audio\n",
    "\n",
    "max_time = 3\n",
    "f1 = 220.0\n",
    "f2 = 224.0\n",
    "rate = 8000.0\n",
    "L = 3\n",
    "times = np.linspace(0,L,rate*L)\n",
    "signal = np.sin(2*np.pi*f1*times) + np.sin(2*np.pi*f2*times)\n",
    "\n",
    "Audio(data=signal, rate=rate)"
   ]
  },
  {
   "cell_type": "markdown",
   "metadata": {},
   "source": [
    "## Packages we need"
   ]
  },
  {
   "cell_type": "markdown",
   "metadata": {},
   "source": [
    "- **NumPy**: Numerical Python, provides ability to specify and manipulate array data structures.\n",
    "\n",
    "\n",
    "- **SciPy**: Scientific Python, provides variety of high level science and engineering modules.\n",
    "\n",
    "\n",
    "- **Matplotlib**: Plotting library.\n",
    "\n",
    "\n",
    "- **Pandas**: High-performance, easy-to-use data structures and data analysis tools.\n",
    "\n",
    "\n",
    "- **IPython/Jupyter**: Enhanced Python shell, designed to increase the efficiency and usability of coding, testing and debugging Python.\n",
    "\n",
    "\n",
    "- **scikit-learn**: Tools for machine learning and data analysis.\n",
    "\n",
    "Get all of above in one shot by installing **Anaconda**"
   ]
  },
  {
   "cell_type": "markdown",
   "metadata": {},
   "source": [
    "<a id='PythonBasics'></a>\n",
    "# II. Python Basics"
   ]
  },
  {
   "cell_type": "code",
   "execution_count": null,
   "metadata": {},
   "outputs": [],
   "source": [
    "x = ?\n",
    "print(x)"
   ]
  },
  {
   "cell_type": "code",
   "execution_count": null,
   "metadata": {},
   "outputs": [],
   "source": [
    "print(x * 4)"
   ]
  },
  {
   "cell_type": "code",
   "execution_count": null,
   "metadata": {},
   "outputs": [],
   "source": [
    "print x**4"
   ]
  },
  {
   "cell_type": "code",
   "execution_count": null,
   "metadata": {},
   "outputs": [],
   "source": [
    "import math\n",
    "x = math.cos(43)\n",
    "print(x)"
   ]
  },
  {
   "cell_type": "markdown",
   "metadata": {},
   "source": [
    "## Python String Formatting"
   ]
  },
  {
   "cell_type": "code",
   "execution_count": null,
   "metadata": {},
   "outputs": [],
   "source": [
    "x = ?\n",
    "print('This is a simple way of printing x', x)"
   ]
  },
  {
   "cell_type": "code",
   "execution_count": null,
   "metadata": {},
   "outputs": [],
   "source": [
    "y = ?\n",
    "print('This is how we print x', x, 'and y', y, '.')"
   ]
  },
  {
   "cell_type": "code",
   "execution_count": null,
   "metadata": {},
   "outputs": [],
   "source": [
    "z = 0.489349842432423829328933 * 10**32\n",
    "print('{}'.format(z))"
   ]
  },
  {
   "cell_type": "code",
   "execution_count": null,
   "metadata": {},
   "outputs": [],
   "source": [
    "print('What if I want to print x twice, like this {0}, {0}, and y once, {1}?'.format(x,y))"
   ]
  },
  {
   "cell_type": "markdown",
   "metadata": {},
   "source": [
    "## Python Lists"
   ]
  },
  {
   "cell_type": "code",
   "execution_count": null,
   "metadata": {},
   "outputs": [],
   "source": [
    "x = list(?)\n",
    "print(x)\n",
    "x.reverse()\n",
    "print(x)"
   ]
  },
  {
   "cell_type": "code",
   "execution_count": null,
   "metadata": {},
   "outputs": [],
   "source": [
    "x = [3, 42, 8, 5, 42, 0.4, 246]\n",
    "x.sort()\n",
    "print(x)"
   ]
  },
  {
   "cell_type": "code",
   "execution_count": null,
   "metadata": {},
   "outputs": [],
   "source": [
    "x = list(range(4))\n",
    "print(x)\n",
    "\n",
    "x.append(?)\n",
    "print(x)"
   ]
  },
  {
   "cell_type": "code",
   "execution_count": null,
   "metadata": {},
   "outputs": [],
   "source": [
    "x = list(range(5, 10))\n",
    "x"
   ]
  },
  {
   "cell_type": "code",
   "execution_count": null,
   "metadata": {},
   "outputs": [],
   "source": [
    "x = list(range(0, 10, 2))\n",
    "x"
   ]
  },
  {
   "cell_type": "code",
   "execution_count": null,
   "metadata": {},
   "outputs": [],
   "source": [
    "x = list(range(10, 0, -1))\n",
    "x"
   ]
  },
  {
   "cell_type": "code",
   "execution_count": null,
   "metadata": {},
   "outputs": [],
   "source": [
    "x = [4, 3, 41]\n",
    "x[2] = \"Let's put a string here instead\"\n",
    "x.append(\"And another for demonstration purposes\")\n",
    "print(x)"
   ]
  },
  {
   "cell_type": "markdown",
   "metadata": {},
   "source": [
    "### Slicing Lists"
   ]
  },
  {
   "cell_type": "markdown",
   "metadata": {},
   "source": [
    "[**start** : **stop** : **steps**]\n",
    "\n",
    "[: stop] => slice from start till (excluding) stop index\n",
    "\n",
    "\n",
    "[start :] => slice from start till end\n",
    "\n",
    "\n",
    "-1 => means go backwards"
   ]
  },
  {
   "cell_type": "code",
   "execution_count": null,
   "metadata": {},
   "outputs": [],
   "source": [
    "numbers = [4, 7, 24, 11, 2]\n",
    "print(numbers)\n",
    "print(numbers[0:3])\n",
    "print(numbers[-1], numbers[-2])\n",
    "print(numbers[3:])\n",
    "print(numbers[:-1])\n",
    "print(numbers[:4])"
   ]
  },
  {
   "cell_type": "markdown",
   "metadata": {},
   "source": [
    "## Control Structures"
   ]
  },
  {
   "cell_type": "markdown",
   "metadata": {},
   "source": [
    "### For loops"
   ]
  },
  {
   "cell_type": "code",
   "execution_count": null,
   "metadata": {},
   "outputs": [],
   "source": [
    "x = [4, 3, 24, 7]\n",
    "for element in x:\n",
    "    print(element)"
   ]
  },
  {
   "cell_type": "code",
   "execution_count": null,
   "metadata": {},
   "outputs": [],
   "source": [
    "x = [4, 3, 24, 7]\n",
    "xsum = 0\n",
    "for element in x:\n",
    "    xsum += element # <--- this means xsum = xsum + element\n",
    "print(xsum)"
   ]
  },
  {
   "cell_type": "markdown",
   "metadata": {},
   "source": [
    "### if-elif-else"
   ]
  },
  {
   "cell_type": "code",
   "execution_count": null,
   "metadata": {},
   "outputs": [],
   "source": [
    "x, y = ?\n",
    "\n",
    "if (x > y):\n",
    "    print(x, '>', y)\n",
    "elif (x == y):\n",
    "    print(x, 'equals', y)\n",
    "else:\n",
    "    print('Hi there!')"
   ]
  },
  {
   "cell_type": "markdown",
   "metadata": {},
   "source": [
    "### While"
   ]
  },
  {
   "cell_type": "code",
   "execution_count": null,
   "metadata": {},
   "outputs": [],
   "source": [
    "i = 0\n",
    "while (?):\n",
    "    print(i)\n",
    "    i += 1"
   ]
  },
  {
   "cell_type": "markdown",
   "metadata": {},
   "source": [
    "### List Comprehension"
   ]
  },
  {
   "cell_type": "code",
   "execution_count": null,
   "metadata": {},
   "outputs": [],
   "source": [
    "t = [? for x in [5, 6, 7]] \n",
    "print t"
   ]
  },
  {
   "cell_type": "code",
   "execution_count": null,
   "metadata": {
    "collapsed": true
   },
   "outputs": [],
   "source": [
    "?complex"
   ]
  },
  {
   "cell_type": "code",
   "execution_count": null,
   "metadata": {},
   "outputs": [],
   "source": [
    "z = [? for x in range(0, 4, 1)\n",
    "                       for y in range(4, 0, -1) if x > y]\n",
    "print z"
   ]
  },
  {
   "cell_type": "markdown",
   "metadata": {},
   "source": [
    "## Dictionary"
   ]
  },
  {
   "cell_type": "code",
   "execution_count": null,
   "metadata": {},
   "outputs": [],
   "source": [
    "d = {'a':1, 'b':2, 'c':3}\n",
    "d"
   ]
  },
  {
   "cell_type": "code",
   "execution_count": null,
   "metadata": {},
   "outputs": [],
   "source": [
    "d['b']"
   ]
  },
  {
   "cell_type": "code",
   "execution_count": null,
   "metadata": {},
   "outputs": [],
   "source": [
    "d1 = dict(d=4, e=5, f=6)\n",
    "d1"
   ]
  },
  {
   "cell_type": "code",
   "execution_count": null,
   "metadata": {},
   "outputs": [],
   "source": [
    "d.update(d1)\n",
    "d"
   ]
  },
  {
   "cell_type": "code",
   "execution_count": null,
   "metadata": {},
   "outputs": [],
   "source": [
    "list(d.keys())"
   ]
  },
  {
   "cell_type": "code",
   "execution_count": null,
   "metadata": {},
   "outputs": [],
   "source": [
    "list(d.values())"
   ]
  },
  {
   "cell_type": "code",
   "execution_count": null,
   "metadata": {},
   "outputs": [],
   "source": [
    "d['g'] = 7\n",
    "d"
   ]
  },
  {
   "cell_type": "code",
   "execution_count": null,
   "metadata": {},
   "outputs": [],
   "source": [
    "for k in d:\n",
    "    print(?)"
   ]
  },
  {
   "cell_type": "markdown",
   "metadata": {},
   "source": [
    "### Dictionary Comprehension"
   ]
  },
  {
   "cell_type": "code",
   "execution_count": null,
   "metadata": {},
   "outputs": [],
   "source": [
    "a = { ? for n in range(7) } # note curly brackets\n",
    "print a"
   ]
  },
  {
   "cell_type": "code",
   "execution_count": null,
   "metadata": {},
   "outputs": [],
   "source": [
    "odd_sq = { n: n*n for n in range(7) if ? }\n",
    "print odd_sq"
   ]
  },
  {
   "cell_type": "code",
   "execution_count": null,
   "metadata": {},
   "outputs": [],
   "source": [
    "# next example -> swaps the key:value pairs\n",
    "a = { ? for key, val in a.items() }\n",
    "print a"
   ]
  },
  {
   "cell_type": "markdown",
   "metadata": {},
   "source": [
    "## Functions"
   ]
  },
  {
   "cell_type": "markdown",
   "metadata": {},
   "source": [
    "Python functions are defined using the **def** keyword. "
   ]
  },
  {
   "cell_type": "code",
   "execution_count": null,
   "metadata": {},
   "outputs": [],
   "source": [
    "def hello(name, loud=False):\n",
    "    if loud:\n",
    "        print('HELLO, %s!' % name.upper())\n",
    "    else:\n",
    "        print('Hello, %s' % name)\n",
    "\n",
    "hello('Rose') \n",
    "hello('Jupyter', loud=True) "
   ]
  },
  {
   "cell_type": "markdown",
   "metadata": {},
   "source": [
    "## Lambda functions"
   ]
  },
  {
   "cell_type": "markdown",
   "metadata": {},
   "source": [
    "Often we define a mathematical function with a quick one-line function called a lambda. No return statement is needed."
   ]
  },
  {
   "cell_type": "code",
   "execution_count": null,
   "metadata": {},
   "outputs": [],
   "source": [
    "square = lambda x: x*x\n",
    "print(square(3))\n",
    "\n",
    "hypotenuse = lambda x, y: x*x + y*y\n",
    "\n",
    "## Same as\n",
    "\n",
    "# def hypotenuse(x, y):\n",
    "#     return(x*x + y*y)\n",
    "\n",
    "hypotenuse(?)"
   ]
  },
  {
   "cell_type": "markdown",
   "metadata": {},
   "source": [
    "## EXERCISE: \n",
    "- Write a function called **isprime** that takes in a positive integer $N$, and determines whether or not it is prime. Return $N$ if it's prime and return nothing if it isn't.\n",
    "\n",
    "- Create a **list** myprimes that contains all the prime numbers less than 100."
   ]
  },
  {
   "cell_type": "code",
   "execution_count": null,
   "metadata": {},
   "outputs": [],
   "source": [
    "# your code here\n"
   ]
  },
  {
   "cell_type": "markdown",
   "metadata": {},
   "source": [
    "## Classes"
   ]
  },
  {
   "cell_type": "code",
   "execution_count": null,
   "metadata": {},
   "outputs": [],
   "source": [
    "class Greeter(object):\n",
    "\n",
    "    # Constructor\n",
    "    def __init__(self, name):\n",
    "        self.name = name  # Create an instance variable\n",
    "\n",
    "    # Instance method\n",
    "    def greet(self, loud=False):\n",
    "        if loud:\n",
    "            print('HELLO, %s!' % self.name.upper())\n",
    "        else:\n",
    "            print('Hello, %s' % self.name)\n",
    "\n",
    "g = Greeter('Jupyter')  # Construct an instance of the Greeter class\n",
    "g.greet()            # Call an instance method\n",
    "g.greet(loud=True)   # Call an instance method"
   ]
  },
  {
   "cell_type": "markdown",
   "metadata": {},
   "source": [
    "<a id='NumPy'></a>\n",
    "# III. NumPy\n",
    "Python lists are great. They can store strings, integers, or mixtures.\n",
    "\n",
    "NumPy arrays though are **multi-dimensional** and most **engineering** python libraries use them instead. \n",
    "\n",
    "They store the **same type of data** in each element and **cannot change size**."
   ]
  },
  {
   "cell_type": "code",
   "execution_count": null,
   "metadata": {},
   "outputs": [],
   "source": [
    "import numpy as np\n",
    "\n",
    "x = np.zeros(5)\n",
    "print(x)"
   ]
  },
  {
   "cell_type": "code",
   "execution_count": null,
   "metadata": {},
   "outputs": [],
   "source": [
    "x = np.zeros( ? )\n",
    "print(x)"
   ]
  },
  {
   "cell_type": "code",
   "execution_count": null,
   "metadata": {},
   "outputs": [],
   "source": [
    "print (np.arange(3, 10))       # Does not include end point\n",
    "print (np.linspace(0, 1, 25))  # Includes end point"
   ]
  },
  {
   "cell_type": "code",
   "execution_count": null,
   "metadata": {},
   "outputs": [],
   "source": [
    "from math import pi\n",
    "x = np.linspace(?)\n",
    "print(np.cos(x))"
   ]
  },
  {
   "cell_type": "code",
   "execution_count": null,
   "metadata": {},
   "outputs": [],
   "source": [
    "x = np.arange(5)\n",
    "print(?)"
   ]
  },
  {
   "cell_type": "code",
   "execution_count": null,
   "metadata": {},
   "outputs": [],
   "source": [
    "x = np.arange(5)\n",
    "print(?)"
   ]
  },
  {
   "cell_type": "code",
   "execution_count": null,
   "metadata": {},
   "outputs": [],
   "source": [
    "# Numpy Methods (use Tab)\n",
    "x = np.arange(0, 10, 0.1)\n",
    "print(x.?)\n",
    "print(x.?)\n",
    "print(x.?)"
   ]
  },
  {
   "cell_type": "markdown",
   "metadata": {},
   "source": [
    "## Numpy Speed"
   ]
  },
  {
   "cell_type": "code",
   "execution_count": null,
   "metadata": {},
   "outputs": [],
   "source": [
    "import random\n",
    "n = 1000000\n",
    "# Return random floats in the half-open interval [0.0, 1.0)\n",
    "x = [random.random() for i in range(n)]\n",
    "y = [random.random() for i in range(n)]"
   ]
  },
  {
   "cell_type": "code",
   "execution_count": null,
   "metadata": {},
   "outputs": [],
   "source": [
    "x[:3], y[:3]"
   ]
  },
  {
   "cell_type": "code",
   "execution_count": null,
   "metadata": {},
   "outputs": [],
   "source": [
    "z = [x[i] + y[i] for i in range(n)]\n",
    "z[:3]"
   ]
  },
  {
   "cell_type": "code",
   "execution_count": null,
   "metadata": {},
   "outputs": [],
   "source": [
    "%timeit [x[i] + y[i] for i in range(n)]"
   ]
  },
  {
   "cell_type": "code",
   "execution_count": null,
   "metadata": {
    "collapsed": true
   },
   "outputs": [],
   "source": [
    "xa = np.array(x)\n",
    "ya = np.array(y)"
   ]
  },
  {
   "cell_type": "code",
   "execution_count": null,
   "metadata": {},
   "outputs": [],
   "source": [
    "za = xa + ya\n",
    "za[:3]"
   ]
  },
  {
   "cell_type": "code",
   "execution_count": null,
   "metadata": {},
   "outputs": [],
   "source": [
    "%timeit xa + ya"
   ]
  },
  {
   "cell_type": "markdown",
   "metadata": {},
   "source": [
    "We observe that this operation is more than one order of magnitude faster in NumPy than in pure Python!"
   ]
  },
  {
   "cell_type": "markdown",
   "metadata": {},
   "source": [
    "## Numpy 2D Arrays"
   ]
  },
  {
   "cell_type": "code",
   "execution_count": null,
   "metadata": {},
   "outputs": [],
   "source": [
    "import numpy as np \n",
    "a = np.array([[0.0,0.0,0.0], [10.0,10.0,10.0], [20.0,20.0,20.0], [30.0,30.0,30.0]]) \n",
    "b = np.array([0.0, 1.0, 2.0])  \n",
    "   \n",
    "print 'First array:' \n",
    "print a \n",
    "print '\\n'  \n",
    "   \n",
    "print 'Second array:' \n",
    "print b \n",
    "print '\\n'  \n",
    "   \n",
    "print 'First Array + Second Array' \n",
    "print ?"
   ]
  },
  {
   "cell_type": "code",
   "execution_count": null,
   "metadata": {},
   "outputs": [],
   "source": [
    "import numpy as np\n",
    "# Create a 10x6 matrix from normal distribution and convert to ints\n",
    "n, nrows, ncols = ?\n",
    "xs = np.random.normal(n, 15, size=(nrows,ncols)).astype('int')\n",
    "xs"
   ]
  },
  {
   "cell_type": "code",
   "execution_count": null,
   "metadata": {},
   "outputs": [],
   "source": [
    "print(xs.max())\n",
    "print(xs.max(axis=?)) # max of each col     \n",
    "print(xs.max(axis=?)) # max of each row     "
   ]
  },
  {
   "cell_type": "markdown",
   "metadata": {},
   "source": [
    "<a id='Scipy'></a>\n",
    "# IV. Scipy"
   ]
  },
  {
   "cell_type": "markdown",
   "metadata": {},
   "source": [
    "Numpy provides a high-performance multidimensional array and basic tools to compute with and manipulate these arrays. \n",
    "\n",
    "SciPy builds on this, and provides a large number of functions that operate on numpy arrays and are useful for different types of **scientific and engineering applications**."
   ]
  },
  {
   "cell_type": "markdown",
   "metadata": {},
   "source": [
    "## Optimization"
   ]
  },
  {
   "cell_type": "code",
   "execution_count": null,
   "metadata": {},
   "outputs": [],
   "source": [
    "# Example of Scipy functionality\n",
    "\n",
    "# Optimization:\n",
    "import scipy as sp\n",
    "import matplotlib.pyplot as plt\n",
    "\n",
    "def f(x):\n",
    "    return ?\n",
    "\n",
    "x = np.arange(-10, 10, 0.1)\n",
    "plt.plot(?) \n",
    "plt.show() "
   ]
  },
  {
   "cell_type": "markdown",
   "metadata": {},
   "source": [
    "This function has a global minimum around -1.3 and a local minimum around 3.8.\n",
    "\n",
    "Searching for minimum can be done with **scipy.optimize.minimize()**; given a starting point x0, it returns the location of the minimum that it has found"
   ]
  },
  {
   "cell_type": "code",
   "execution_count": null,
   "metadata": {},
   "outputs": [],
   "source": [
    "from scipy.optimize import minimize     \n",
    "result = minimize(?)\n",
    "print result      # Global minimum\n",
    "print f(result.x) # Value at global minimum"
   ]
  },
  {
   "cell_type": "markdown",
   "metadata": {},
   "source": [
    "<a id='Pandas'></a>\n",
    "# V. Pandas"
   ]
  },
  {
   "cell_type": "code",
   "execution_count": null,
   "metadata": {
    "collapsed": true
   },
   "outputs": [],
   "source": [
    "import numpy as np\n",
    "import pandas as pd\n",
    "import matplotlib.pyplot as plt\n",
    "%matplotlib inline\n",
    "from datetime import datetime"
   ]
  },
  {
   "cell_type": "markdown",
   "metadata": {},
   "source": [
    "### Dataframes\n",
    "According to Pandas documentation:\n",
    "*Two-dimensional size-mutable, potentially heterogeneous tabular data structure with labeled axes (rows and columns). Arithmetic operations align on both row and column labels.*\n",
    "\n",
    "In human terms, this means that a **dataframe has rows and columns**, can **change size**, and possibly **has mixed data types**."
   ]
  },
  {
   "cell_type": "markdown",
   "metadata": {},
   "source": [
    "### Peek at the DataFrame contents\n",
    "df.info()                  # index & data types\n",
    "\n",
    "df.head(i)                 # get first i rows\n",
    "\n",
    "df.tail(i)                 # get last i rows\n",
    "\n",
    "df.describe()              # summary stats cols"
   ]
  },
  {
   "cell_type": "markdown",
   "metadata": {},
   "source": [
    "### Pandas with IPL data"
   ]
  },
  {
   "cell_type": "code",
   "execution_count": null,
   "metadata": {},
   "outputs": [],
   "source": [
    "ipl_data = {'Team': ['Riders', 'Riders', 'Devils', 'Devils', 'Kings',\n",
    "            'Kings', 'Kings', 'Kings', 'Riders', 'Royals', 'Royals', 'Riders'],\n",
    "            'Rank': [1, 2, 2, 3, 3, 4 ,1 ,1, 2, 4, 1, 2],\n",
    "            'Year': [2014,2015,2014,2015,2014,2015,2016,2017,2016,2014,2015,2017],\n",
    "            'Points':[876,789,863,673,741,812,756,788,694,701,804,690]}\n",
    "df = pd.DataFrame(?)\n",
    "\n",
    "print df"
   ]
  },
  {
   "cell_type": "code",
   "execution_count": null,
   "metadata": {},
   "outputs": [],
   "source": [
    "df.?"
   ]
  },
  {
   "cell_type": "markdown",
   "metadata": {},
   "source": [
    "A very powerful feature in Pandas is **groupby**. \n",
    "\n",
    "This function allows us to **group together rows that have the same value in a particular column**. \n",
    "Then, we can aggregate this group-by object to compute statistics in each group. "
   ]
  },
  {
   "cell_type": "code",
   "execution_count": null,
   "metadata": {},
   "outputs": [],
   "source": [
    "df.groupby(?).groups"
   ]
  },
  {
   "cell_type": "code",
   "execution_count": null,
   "metadata": {},
   "outputs": [],
   "source": [
    "# Multiple columns\n",
    "df.groupby(?).groups"
   ]
  },
  {
   "cell_type": "markdown",
   "metadata": {},
   "source": [
    "## Pandas with Roger Federer"
   ]
  },
  {
   "cell_type": "code",
   "execution_count": null,
   "metadata": {},
   "outputs": [],
   "source": [
    "# Now, Pandas with another dataset\n",
    "df = pd.read_csv('Data/Roger-Federer.csv')\n",
    "df"
   ]
  },
  {
   "cell_type": "markdown",
   "metadata": {},
   "source": [
    "There are many columns. Each row corresponds to a match played by Roger Federer. Let's add a boolean variable indicating whether he has won the match or not. The `tail` method displays the last rows of the column."
   ]
  },
  {
   "cell_type": "code",
   "execution_count": null,
   "metadata": {},
   "outputs": [],
   "source": [
    "player = ?\n",
    "df['win'] = df['winner'] == player\n",
    "df['win'].tail()"
   ]
  },
  {
   "cell_type": "markdown",
   "metadata": {},
   "source": [
    "`df['win']` is a `Series` object: it is very similar to a NumPy array, except that each value has an index (here, the match index). This object has a few standard statistical functions. For example, let's look at the proportion of matches won."
   ]
  },
  {
   "cell_type": "code",
   "execution_count": null,
   "metadata": {},
   "outputs": [],
   "source": [
    "print(\"{player} has won {vic:.0f}% of his ATP matches.\".format(\n",
    "      player=player, vic=100*df['win'].mean()))"
   ]
  },
  {
   "cell_type": "markdown",
   "metadata": {},
   "source": [
    "We now look at the **proportion of double faults in each match**. "
   ]
  },
  {
   "cell_type": "code",
   "execution_count": null,
   "metadata": {},
   "outputs": [],
   "source": [
    "df['dblfaults'] = (df['player1 double faults'] / df['player1 total points total'])"
   ]
  },
  {
   "cell_type": "markdown",
   "metadata": {},
   "source": [
    "We can use the `head` and `tail` methods to take a look at the beginning and the end of the column, and `describe` to get summary statistics. In particular, let's note that some rows have `NaN` values (i.e. the number of double faults is not available for all matches)."
   ]
  },
  {
   "cell_type": "code",
   "execution_count": null,
   "metadata": {},
   "outputs": [],
   "source": [
    "df['dblfaults'].?"
   ]
  },
  {
   "cell_type": "code",
   "execution_count": null,
   "metadata": {},
   "outputs": [],
   "source": [
    "df['dblfaults'].?"
   ]
  },
  {
   "cell_type": "code",
   "execution_count": null,
   "metadata": {},
   "outputs": [],
   "source": [
    "df.groupby(?)['win'].mean()"
   ]
  },
  {
   "cell_type": "markdown",
   "metadata": {},
   "source": [
    "<a id='Pickle'></a>\n",
    "# VI. Pickle"
   ]
  },
  {
   "cell_type": "code",
   "execution_count": null,
   "metadata": {
    "collapsed": true
   },
   "outputs": [],
   "source": [
    "import pickle\n",
    "\n",
    "# make an example object to pickle\n",
    "some_obj = {'x':[4,2,1.5,1], 'y':[32,[101],17], 'foo':True, 'spam':False}"
   ]
  },
  {
   "cell_type": "markdown",
   "metadata": {},
   "source": [
    "To save a pickle, use **pickle.dump**."
   ]
  },
  {
   "cell_type": "code",
   "execution_count": null,
   "metadata": {
    "collapsed": true
   },
   "outputs": [],
   "source": [
    "with open('mypickle.pickle', 'wb') as f:\n",
    "    pickle.?"
   ]
  },
  {
   "cell_type": "code",
   "execution_count": null,
   "metadata": {
    "collapsed": true
   },
   "outputs": [],
   "source": [
    "del some_obj\n",
    "# Delete from memory"
   ]
  },
  {
   "cell_type": "markdown",
   "metadata": {},
   "source": [
    "Loading the pickled file from your hard drive is as simple as pickle.load and specifying the file path:"
   ]
  },
  {
   "cell_type": "code",
   "execution_count": null,
   "metadata": {},
   "outputs": [],
   "source": [
    "with open('mypickle.pickle') as f:\n",
    "    loaded_obj = pickle.?\n",
    "\n",
    "print 'loaded_obj is', loaded_obj"
   ]
  },
  {
   "cell_type": "markdown",
   "metadata": {},
   "source": [
    "## Pickling pandas DataFrames"
   ]
  },
  {
   "cell_type": "code",
   "execution_count": null,
   "metadata": {},
   "outputs": [],
   "source": [
    "df = pd.DataFrame([range(11), range(100,110)], columns=list('abcdefghijk'))\n",
    "\n",
    "df"
   ]
  },
  {
   "cell_type": "code",
   "execution_count": null,
   "metadata": {
    "collapsed": true
   },
   "outputs": [],
   "source": [
    "df.?('my_df.pickle')"
   ]
  },
  {
   "cell_type": "code",
   "execution_count": null,
   "metadata": {},
   "outputs": [],
   "source": [
    "df2 = pd.?('my_df.pickle')\n",
    "\n",
    "df2"
   ]
  },
  {
   "cell_type": "markdown",
   "metadata": {},
   "source": [
    "<a id='Matplotlib'></a>\n",
    "# VII. Matplotlib - Data Visualization"
   ]
  },
  {
   "cell_type": "markdown",
   "metadata": {},
   "source": [
    "## Histograms"
   ]
  },
  {
   "cell_type": "markdown",
   "metadata": {},
   "source": [
    "The Gaussian PDF is given by:\n",
    "\n",
    "$$ X \\sim \\mathcal{N}(\\mu,\\sigma^2) = \\frac{1}{\\sqrt{2\\pi\\sigma^2}}e^{-\\frac{1}{2\\sigma^2}(x-\\mu)^2} $$"
   ]
  },
  {
   "cell_type": "code",
   "execution_count": null,
   "metadata": {},
   "outputs": [],
   "source": [
    "import numpy as np\n",
    "from matplotlib import pyplot as plt\n",
    "\n",
    "data = np.random.normal(0, 20, 1000)    # mean, std, numSamples \n",
    "\n",
    "# fixed bin size\n",
    "bins = np.arange(-100, 100, 5)\n",
    "print bins\n",
    "\n",
    "plt.xlim([min(data)-5, max(data)+5])\n",
    "plt.?(data, bins=bins, alpha=1)\n",
    "plt.?('Random Gaussian data')\n",
    "plt.?('variable X (bin size = 5)')\n",
    "plt.?('count')\n",
    "\n",
    "plt.?()"
   ]
  },
  {
   "cell_type": "markdown",
   "metadata": {},
   "source": [
    "### Histogram of 2 overlapping data sets"
   ]
  },
  {
   "cell_type": "code",
   "execution_count": null,
   "metadata": {},
   "outputs": [],
   "source": [
    "import random\n",
    "%matplotlib inline \n",
    "# Now, no need to do plt.show() \n",
    "\n",
    "data1 = [random.gauss(?) for i in range(500)] # 500 samples from Gaussian distribution, mu, sigma  \n",
    "data2 = [random.gauss(?) for i in range(500)]   # 500 samples from Gaussian distribution, mu, sigma\n",
    "bins = np.arange(-60, 60, 2.5)\n",
    "plt.xlim([min(data1+data2)-5, max(data1+data2)+5])\n",
    "\n",
    "plt.?(data1, bins=bins, alpha=0.5, label='class 1')    \n",
    "plt.?(data2, bins=bins, alpha=0.5, label='class 2')\n",
    "plt.title('Random Gaussian data')\n",
    "plt.xlabel('variable X')\n",
    "plt.ylabel('count')\n",
    "plt.legend(loc='upper right')"
   ]
  },
  {
   "cell_type": "markdown",
   "metadata": {},
   "source": [
    "## Lineplots"
   ]
  },
  {
   "cell_type": "code",
   "execution_count": null,
   "metadata": {},
   "outputs": [],
   "source": [
    "x = [1, 2, 3]\n",
    "\n",
    "y_1 = ?\n",
    "y_2 = ?\n",
    "\n",
    "plt.?(x, y_1, marker=?) \n",
    "plt.?(x, y_2, marker=?)\n",
    "\n",
    "plt.xlim([0, len(x)+1])\n",
    "plt.ylim([0, max(y_1+y_2) + 10])\n",
    "plt.xlabel('x-axis label')\n",
    "plt.ylabel('y-axis label')\n",
    "plt.title('Simple line plot')\n",
    "plt.legend(['sample 1', 'sample2'], loc='upper left')"
   ]
  },
  {
   "cell_type": "markdown",
   "metadata": {},
   "source": [
    "## Scatter Plots"
   ]
  },
  {
   "cell_type": "code",
   "execution_count": null,
   "metadata": {},
   "outputs": [],
   "source": [
    "# Generating a Gaussion dataset:\n",
    "# creating random vectors from the multivariate normal distribution given mean and covariance \n",
    "mu_vec1 = np.array(?)        \n",
    "cov_mat1 = np.array(?)       \n",
    "\n",
    "x1_samples = np.random.multivariate_normal(mu_vec1, cov_mat1, 100)\n",
    "x2_samples = np.random.multivariate_normal(mu_vec1+5, cov_mat1+0.8, 100)\n",
    "\n",
    "# print x1_samples.shape \n",
    "# (100, 2), 100 rows, 2 columns\n",
    "\n",
    "plt.figure(figsize=(8,6))\n",
    "    \n",
    "plt.scatter(x1_samples[:,0], x1_samples[:,1], marker='x', \n",
    "            color='blue', alpha=0.7, label='x1 samples')\n",
    "plt.scatter(x2_samples[:,0], x1_samples[:,1], marker='o', \n",
    "            color='green', alpha=0.7, label='x2 samples')\n",
    "plt.title('Basic scatter plot')\n",
    "plt.ylabel('variable X')\n",
    "plt.xlabel('Variable Y')\n",
    "plt.legend(loc='upper right')"
   ]
  },
  {
   "cell_type": "markdown",
   "metadata": {},
   "source": [
    "## 3D Scatter plot"
   ]
  },
  {
   "cell_type": "code",
   "execution_count": null,
   "metadata": {},
   "outputs": [],
   "source": [
    "from mpl_toolkits.mplot3d import Axes3D\n",
    "\n",
    "# Generate some 3D sample data\n",
    "mu_vec1 = np.array(?) # mean vector                   \n",
    "cov_mat1 = np.array(?) # covariance matrix            \n",
    "\n",
    "class1_sample = np.random.multivariate_normal(mu_vec1, cov_mat1, 20)\n",
    "class2_sample = np.random.multivariate_normal(mu_vec1 + 1, cov_mat1, 20)\n",
    "class3_sample = np.random.multivariate_normal(mu_vec1 + 3, cov_mat1, 20)\n",
    "\n",
    "# class1_sample.shape -> (20, 3), 20 rows, 3 columns\n",
    "\n",
    "fig = plt.figure(figsize=(8,8))\n",
    "ax = fig.add_subplot(111, projection='3d')\n",
    "   \n",
    "ax.scatter(class1_sample[:,0], class1_sample[:,1], class1_sample[:,2], \n",
    "           marker='x', color='blue', s=40, label='class 1')\n",
    "ax.scatter(class2_sample[:,0], class2_sample[:,1], class2_sample[:,2], \n",
    "           marker='o', color='green', s=40, label='class 2')\n",
    "ax.scatter(class3_sample[:,0], class3_sample[:,1], class3_sample[:,2], \n",
    "           marker='^', color='red', s=40, label='class 3')\n",
    "\n",
    "ax.set_xlabel('variable X')\n",
    "ax.set_ylabel('variable Y')\n",
    "ax.set_zlabel('variable Z')\n",
    "\n",
    "plt.title('3D Scatter Plot')\n",
    "plt.show()"
   ]
  },
  {
   "cell_type": "markdown",
   "metadata": {},
   "source": [
    "## Boxplot"
   ]
  },
  {
   "cell_type": "code",
   "execution_count": null,
   "metadata": {},
   "outputs": [],
   "source": [
    "all_data = [np.random.normal(0, std, 100) for ?]   \n",
    "# print all_data\n",
    "\n",
    "fig = plt.figure(figsize=(8,6))\n",
    "\n",
    "plt.boxplot(all_data, \n",
    "            notch=False, # box instead of notch shape \n",
    "            sym='rs',    # red squares for outliers\n",
    "            vert=True)   # vertical box aligmnent\n",
    "\n",
    "plt.xticks([y+1 for y in range(len(all_data))], ['x1', 'x2', 'x3'])\n",
    "plt.xlabel('measurement x')\n",
    "t = plt.title('Box plot')"
   ]
  },
  {
   "cell_type": "markdown",
   "metadata": {},
   "source": [
    "## Subplots"
   ]
  },
  {
   "cell_type": "code",
   "execution_count": null,
   "metadata": {},
   "outputs": [],
   "source": [
    "x = ?\n",
    "y = ?\n",
    "\n",
    "fig, ax = plt.subplots(nrows=2,ncols=2)\n",
    "\n",
    "for row in ax:\n",
    "    for col in row:\n",
    "        col.?"
   ]
  },
  {
   "cell_type": "markdown",
   "metadata": {},
   "source": [
    "## Plot with XKCD"
   ]
  },
  {
   "cell_type": "code",
   "execution_count": null,
   "metadata": {},
   "outputs": [],
   "source": [
    "x = np.?(0, 2*np.pi, 100)          # ?\n",
    "y = np.?\n",
    "with plt.xkcd():\n",
    "    plt.?\n",
    "    plt.axis([0, 2*np.pi, -1.05, 1.05,])"
   ]
  },
  {
   "cell_type": "markdown",
   "metadata": {},
   "source": [
    "<a id='ExploringDatasets'></a>\n",
    "# VIII. Exploring Datasets"
   ]
  },
  {
   "cell_type": "markdown",
   "metadata": {},
   "source": [
    "## Iris Dataset"
   ]
  },
  {
   "cell_type": "code",
   "execution_count": null,
   "metadata": {},
   "outputs": [],
   "source": [
    "import pandas as pd\n",
    "iris = pd.read_csv(\"Data/iris.csv\") \n",
    "iris.?"
   ]
  },
  {
   "cell_type": "code",
   "execution_count": null,
   "metadata": {},
   "outputs": [],
   "source": [
    "# Let's see how many examples we have of each species\n",
    "iris[?].value_counts()                               "
   ]
  },
  {
   "cell_type": "markdown",
   "metadata": {},
   "source": [
    "### Joint distribution plot - Seaborn "
   ]
  },
  {
   "cell_type": "code",
   "execution_count": null,
   "metadata": {},
   "outputs": [],
   "source": [
    "import seaborn as sns\n",
    "plt.figure()\n",
    "sns.?(x='petal_length', y='petal_width', data=iris, kind='kdeplot')"
   ]
  },
  {
   "cell_type": "code",
   "execution_count": null,
   "metadata": {},
   "outputs": [],
   "source": [
    "fig, axes = plt.subplots(1, 2, figsize=(8,4))\n",
    "\n",
    "sns.?(x='species', y='petal_length', data=?, ax=axes[0])      \n",
    "sns.?(x='species', y='petal_length', data=?, ax=axes[1])   "
   ]
  },
  {
   "cell_type": "markdown",
   "metadata": {},
   "source": [
    "<a id='WordClouds'></a>\n",
    "# IX. Generating WordClouds"
   ]
  },
  {
   "cell_type": "code",
   "execution_count": null,
   "metadata": {},
   "outputs": [],
   "source": [
    "from wordcloud import WordCloud\n",
    "\n",
    "# Read the whole text.\n",
    "text = open('Data/WordCloudData.txt').read()\n",
    "\n",
    "print text\n",
    "\n",
    "# Generate a word cloud image\n",
    "wordcloud = WordCloud().generate(text)\n",
    "\n",
    "# Display the generated image:\n",
    "import matplotlib.pyplot as plt\n",
    "plt.imshow(wordcloud.recolor(random_state=2017))\n",
    "plt.title('Most Frequent Words')\n",
    "plt.axis(\"off\")\n",
    "plt.show()"
   ]
  },
  {
   "cell_type": "markdown",
   "metadata": {},
   "source": [
    "## [Go to Table of Contents](#TOC)"
   ]
  }
 ],
 "metadata": {
  "kernelspec": {
   "display_name": "Python 2",
   "language": "python",
   "name": "python2"
  },
  "language_info": {
   "codemirror_mode": {
    "name": "ipython",
    "version": 2
   },
   "file_extension": ".py",
   "mimetype": "text/x-python",
   "name": "python",
   "nbconvert_exporter": "python",
   "pygments_lexer": "ipython2",
   "version": "2.7.14"
  }
 },
 "nbformat": 4,
 "nbformat_minor": 2
}
